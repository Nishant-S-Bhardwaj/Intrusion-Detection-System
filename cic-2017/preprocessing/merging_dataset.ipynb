{
 "cells": [
  {
   "cell_type": "markdown",
   "id": "b1a8b912",
   "metadata": {},
   "source": [
    "### Merge datasets"
   ]
  },
  {
   "cell_type": "code",
   "execution_count": 12,
   "id": "b18807e3",
   "metadata": {},
   "outputs": [],
   "source": [
    "import pandas as pd\n",
    "import chardet\n",
    "import glob\n",
    "import os"
   ]
  },
  {
   "cell_type": "code",
   "execution_count": null,
   "id": "679f3e3a",
   "metadata": {},
   "outputs": [
    {
     "name": "stdout",
     "output_type": "stream",
     "text": [
      "❌ No valid CSV files were read. Nothing was merged.\n"
     ]
    }
   ],
   "source": [
    "\n",
    "\n",
    "def detect_encoding(file_path, num_bytes=10000):\n",
    "    with open(file_path, 'rb') as f:\n",
    "        rawdata = f.read(num_bytes)\n",
    "    result = chardet.detect(rawdata)\n",
    "    return result['encoding']\n",
    "\n",
    "def merge_csv_files_with_encoding_detection(input_folder, output_file):\n",
    "    csv_files = glob.glob(os.path.join(input_folder, '*.csv'))\n",
    "    df_list = []\n",
    "\n",
    "    for file in csv_files:\n",
    "        print(f\"Detecting encoding for {file}...\")\n",
    "        encoding = detect_encoding(file)\n",
    "        print(f\" -> Detected encoding: {encoding}\")\n",
    "        try:\n",
    "            df = pd.read_csv(file, encoding=encoding)\n",
    "            df_list.append(df)\n",
    "        except Exception as e:\n",
    "            print(f\"Failed to read {file}: {e}\")\n",
    "\n",
    "    if df_list:\n",
    "        merged_df = pd.concat(df_list, ignore_index=True)\n",
    "        merged_df.to_csv(output_file, index=False)\n",
    "        print(f\"\\n✅ Merged {len(df_list)} files into '{output_file}'.\")\n",
    "    else:\n",
    "        print(\"❌ No valid CSV files were read. Nothing was merged.\")\n",
    "\n",
    "# Set the actual Windows paths\n",
    "input_folder = r\"N:\\DATASET\\cic-2017\\MachineLearningCSV\"\n",
    "output_file = r\"N:\\DATASET\\cic-2017\\merged_output_machine_learning.csv\"\n",
    "\n",
    "merge_csv_files_with_encoding_detection(input_folder, output_file)\n"
   ]
  },
  {
   "cell_type": "code",
   "execution_count": 11,
   "id": "87487845",
   "metadata": {},
   "outputs": [
    {
     "name": "stdout",
     "output_type": "stream",
     "text": [
      "                                          Flow ID       Source IP   Source Port  Destination IP   Destination Port   Protocol            Timestamp   Flow Duration   Total Fwd Packets   Total Backward Packets  Total Length of Fwd Packets   Total Length of Bwd Packets   Fwd Packet Length Max   Fwd Packet Length Min   Fwd Packet Length Mean   Fwd Packet Length Std  Bwd Packet Length Max   Bwd Packet Length Min   Bwd Packet Length Mean   Bwd Packet Length Std   Flow Bytes/s   Flow Packets/s   Flow IAT Mean   Flow IAT Std   Flow IAT Max   Flow IAT Min  Fwd IAT Total   Fwd IAT Mean   Fwd IAT Std   Fwd IAT Max   Fwd IAT Min  Bwd IAT Total   Bwd IAT Mean   Bwd IAT Std   Bwd IAT Max   Bwd IAT Min  Fwd PSH Flags   Bwd PSH Flags   Fwd URG Flags   Bwd URG Flags   Fwd Header Length   Bwd Header Length  Fwd Packets/s   Bwd Packets/s   Min Packet Length   Max Packet Length   Packet Length Mean   Packet Length Std   Packet Length Variance  FIN Flag Count   SYN Flag Count   RST Flag Count  \\\n",
      "931376     192.168.10.19-192.168.10.50-58553-21-6   192.168.10.50            21   192.168.10.19              58553          6  03/07/2017 01:59:23              41                   1                        1                          0.0                           0.0                     0.0                     0.0                 0.000000                0.000000                    0.0                     0.0                      0.0                     0.0       0.000000     48780.487805            41.0       0.000000           41.0           41.0            0.0            0.0      0.000000           0.0           0.0            0.0            0.0           0.0           0.0           0.0              0               0               0               0                  32                  32   24390.243902    24390.243902                 0.0                 0.0             0.000000            0.000000                 0.000000               0                0                0   \n",
      "680106   192.168.10.14-104.97.137.120-52841-443-6  104.97.137.120           443   192.168.10.14              52841          6       7/7/2017 11:48              84                   3                        1                         43.0                           6.0                    31.0                     6.0                14.333333               14.433757                    6.0                     6.0                      6.0                     0.0  583333.333300     47619.047620            28.0      24.020824           47.0            1.0           48.0           24.0     32.526912          47.0           1.0            0.0            0.0           0.0           0.0           0.0              0               0               0               0                  60                  20   35714.285710    11904.761900                 6.0                31.0            11.000000           11.180340               125.000000               0                0                0   \n",
      "343153      172.16.0.1-192.168.10.50-59328-3690-6      172.16.0.1         59328   192.168.10.50               3690          6        7/7/2017 2:52              73                   1                        1                          2.0                           6.0                     2.0                     2.0                 2.000000                0.000000                    6.0                     6.0                      6.0                     0.0  109589.041100     27397.260270            73.0       0.000000           73.0           73.0            0.0            0.0      0.000000           0.0           0.0            0.0            0.0           0.0           0.0           0.0              0               0               0               0                  24                  20   13698.630140    13698.630140                 2.0                 6.0             3.333333            2.309401                 5.333333               0                0                0   \n",
      "643679      192.168.10.1-192.168.10.3-53-61267-17    192.168.10.3         61267    192.168.10.1                 53         17       7/7/2017 11:10             675                   1                        1                         62.0                         112.0                    62.0                    62.0                62.000000                0.000000                  112.0                   112.0                    112.0                     0.0  257777.777800      2962.962963           675.0       0.000000          675.0          675.0            0.0            0.0      0.000000           0.0           0.0            0.0            0.0           0.0           0.0           0.0              0               0               0               0                  32                  32    1481.481481     1481.481481                62.0               112.0            78.666667           28.867513               833.333333               0                0                0   \n",
      "2152437       172.16.0.1-192.168.10.50-42406-80-6      172.16.0.1         42406   192.168.10.50                 80          6       5/7/2017 10:50           15753                   2                        2                         12.0                           0.0                     6.0                     6.0                 6.000000                0.000000                    0.0                     0.0                      0.0                     0.0     761.759665       253.919888          5251.0    7438.758230        13773.0           59.0         1980.0         1980.0      0.000000        1980.0        1980.0        15694.0        15694.0           0.0       15694.0       15694.0              0               0               0               0                  40                  64     126.959944      126.959944                 0.0                 6.0             3.600000            3.286335                10.800000               1                0                0   \n",
      "\n",
      "          PSH Flag Count   ACK Flag Count   URG Flag Count   CWE Flag Count   ECE Flag Count   Down/Up Ratio   Average Packet Size   Avg Fwd Segment Size   Avg Bwd Segment Size   Fwd Header Length.1  Fwd Avg Bytes/Bulk   Fwd Avg Packets/Bulk   Fwd Avg Bulk Rate   Bwd Avg Bytes/Bulk   Bwd Avg Packets/Bulk  Bwd Avg Bulk Rate  Subflow Fwd Packets   Subflow Fwd Bytes   Subflow Bwd Packets   Subflow Bwd Bytes  Init_Win_bytes_forward   Init_Win_bytes_backward   act_data_pkt_fwd   min_seg_size_forward  Active Mean   Active Std   Active Max   Active Min  Idle Mean   Idle Std   Idle Max   Idle Min     Label  \n",
      "931376                 0                1                1                0                0             1.0                  0.00               0.000000                    0.0                    32                   0                      0                   0                    0                      0                  0                    1                   0                     1                   0                     227                       229                  0                     32          0.0          0.0          0.0          0.0        0.0        0.0        0.0        0.0    BENIGN  \n",
      "680106                 0                1                0                0                0             0.0                 13.75              14.333333                    6.0                    60                   0                      0                   0                    0                      0                  0                    3                  43                     1                   6                     980                         0                  2                     20          0.0          0.0          0.0          0.0        0.0        0.0        0.0        0.0    BENIGN  \n",
      "343153                 1                0                0                0                0             1.0                  5.00               2.000000                    6.0                    24                   0                      0                   0                    0                      0                  0                    1                   2                     1                   6                    1024                         0                  0                     24          0.0          0.0          0.0          0.0        0.0        0.0        0.0        0.0  PortScan  \n",
      "643679                 0                0                0                0                0             1.0                118.00              62.000000                  112.0                    32                   0                      0                   0                    0                      0                  0                    1                  62                     1                 112                      -1                        -1                  0                     32          0.0          0.0          0.0          0.0        0.0        0.0        0.0        0.0    BENIGN  \n",
      "2152437                0                0                0                0                0             1.0                  4.50               6.000000                    0.0                    40                   0                      0                   0                    0                      0                  0                    2                  12                     2                   0                       0                       235                  1                     20          0.0          0.0          0.0          0.0        0.0        0.0        0.0        0.0  DoS Hulk  \n"
     ]
    }
   ],
   "source": [
    "df=pd.read_csv('N:\\\\DATASET\\\\cic-2017\\\\merged_output_generatedlabledflow.csv')\n",
    "pd.set_option('display.max_columns',None)\n",
    "pd.set_option('display.width',1000)\n",
    "print(df.sample(5))\n"
   ]
  },
  {
   "cell_type": "code",
   "execution_count": 12,
   "id": "a6672234",
   "metadata": {},
   "outputs": [
    {
     "name": "stderr",
     "output_type": "stream",
     "text": [
      "C:\\Users\\nishant lap\\AppData\\Local\\Temp\\ipykernel_8552\\3505116041.py:14: FutureWarning: errors='ignore' is deprecated and will raise in a future version. Use to_numeric without passing `errors` and catch exceptions explicitly instead\n",
      "  df[col] = pd.to_numeric(df[col], errors='ignore')\n"
     ]
    }
   ],
   "source": [
    "import pandas as pd\n",
    "import numpy as np\n",
    "\n",
    "def clean_df(df):\n",
    "    # Drop unnamed index column if present\n",
    "    if 'Unnamed: 0' in df.columns:\n",
    "        df.drop('Unnamed: 0', axis=1, inplace=True)\n",
    "\n",
    "    # Replace problematic values\n",
    "    df.replace([np.inf, -np.inf, 'Infinity', 'NaN', 'nan', 'INF', 'inf', 'NaT'], np.nan, inplace=True)\n",
    "\n",
    "    # Convert to numeric where possible\n",
    "    for col in df.columns:\n",
    "        df[col] = pd.to_numeric(df[col], errors='ignore')\n",
    "\n",
    "    # Drop rows with all or any NaNs\n",
    "    df.dropna(how='all', inplace=True)\n",
    "    df.dropna(inplace=True)\n",
    "\n",
    "    # Strip whitespaces from column names\n",
    "    df.columns = df.columns.str.strip()\n",
    "\n",
    "    # Drop constant columns\n",
    "    constant_cols = df.nunique()[df.nunique() <= 1].index.tolist()\n",
    "    df.drop(constant_cols, axis=1, inplace=True)\n",
    "\n",
    "    # Strip whitespace in 'Label' column\n",
    "    if 'Label' in df.columns:\n",
    "        df['Label'] = df['Label'].astype(str).str.strip()\n",
    "\n",
    "    return df\n",
    "\n",
    "# Load the combined dataset\n",
    "file_path = \"N:\\\\DATASET\\\\cic-2017\\\\merged_output_machine_learning.csv\"\n",
    "df_combined = pd.read_csv(file_path)\n",
    "\n",
    "# Clean it\n",
    "df_combined = clean_df(df_combined)\n",
    "\n",
    "# Drop unused columns if still present\n",
    "dropping_cols = ['id', 'Flow ID', 'Src IP', 'Src Port', 'Dst IP', 'Dst Port', 'Timestamp']\n",
    "df_combined.drop([col for col in dropping_cols if col in df_combined.columns], axis=1, inplace=True)\n"
   ]
  },
  {
   "cell_type": "code",
   "execution_count": 19,
   "id": "243ce8bc",
   "metadata": {},
   "outputs": [
    {
     "name": "stdout",
     "output_type": "stream",
     "text": [
      "Dataset 1 has 2660377 rows and 79 columns.\n",
      "Dataset 2 has 2660377 rows and 85 columns.\n"
     ]
    }
   ],
   "source": [
    "# Save the cleaned DataFrame\n",
    "# Load the datasets\n",
    "df1 = pd.read_csv('N:\\\\DATASET\\\\cic-2017\\\\merged_output_machine_learning.csv')\n",
    "df2 = pd.read_csv('N:\\\\DATASET\\\\cic-2017\\\\merged_output_generatedlabledflow.csv')\n",
    "\n",
    "# Get the shape of each DataFrame\n",
    "rows1, columns1 = df1.shape\n",
    "rows2, columns2 = df2.shape\n",
    "\n",
    "print(f\"Dataset 1 has {rows1} rows and {columns1} columns.\")\n",
    "print(f\"Dataset 2 has {rows2} rows and {columns2} columns.\")"
   ]
  }
 ],
 "metadata": {
  "kernelspec": {
   "display_name": ".venv",
   "language": "python",
   "name": "python3"
  },
  "language_info": {
   "codemirror_mode": {
    "name": "ipython",
    "version": 3
   },
   "file_extension": ".py",
   "mimetype": "text/x-python",
   "name": "python",
   "nbconvert_exporter": "python",
   "pygments_lexer": "ipython3",
   "version": "3.12.3"
  }
 },
 "nbformat": 4,
 "nbformat_minor": 5
}
